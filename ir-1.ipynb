{
 "cells": [
  {
   "cell_type": "code",
   "execution_count": 1,
   "metadata": {},
   "outputs": [],
   "source": [
    "from onnxscript import ir"
   ]
  },
  {
   "cell_type": "code",
   "execution_count": 2,
   "metadata": {},
   "outputs": [],
   "source": [
    "v1 = ir.Input(name='input1')\n",
    "v2 = ir.Input(name='input2')\n",
    "\n",
    "add_node = ir.Node(\"\", 'Add', (v1, v2))\n",
    "identity = ir.Node(\"\", 'Identity', add_node.outputs)\n",
    "\n",
    "\n",
    "graph = ir.Graph(\n",
    "    (v1, v2),\n",
    "    identity.outputs,\n",
    "    nodes=[add_node, identity]\n",
    ")"
   ]
  },
  {
   "cell_type": "code",
   "execution_count": 3,
   "metadata": {},
   "outputs": [
    {
     "name": "stdout",
     "output_type": "stream",
     "text": [
      "graph(\n",
      "    name=:anonymous_graph:129251538934720,\n",
      "    inputs=(\n",
      "        %\"input1\"<?,?>,\n",
      "        %\"input2\"<?,?>\n",
      "    ),\n",
      "    outputs=(\n",
      "        %\"anonymous:129251538934592\"<?,?>\n",
      "    ),\n",
      ") {\n",
      "    0 |  # :anonymous_node:129251539256800\n",
      "         %\"anonymous:129251538934464\"<?,?> ⬅️ ::Add(%\"input1\", %\"input2\")\n",
      "    1 |  # :anonymous_node:129251539258384\n",
      "         %\"anonymous:129251538934592\"<?,?> ⬅️ ::Identity(%anonymous:129251538934464)\n",
      "    return %\"anonymous:129251538934592\"<?,?>\n",
      "}\n"
     ]
    }
   ],
   "source": [
    "print(graph)"
   ]
  },
  {
   "cell_type": "code",
   "execution_count": 4,
   "metadata": {},
   "outputs": [
    {
     "name": "stdout",
     "output_type": "stream",
     "text": [
      "%\"anonymous:129251538934464\"<?,?> ⬅️ ::Add(%\"input1\", %\"input2\")\n",
      "%\"anonymous:129251538934592\"<?,?> ⬅️ ::Identity(%anonymous:129251538934464)\n"
     ]
    }
   ],
   "source": [
    "for node in graph:\n",
    "    print(node)"
   ]
  },
  {
   "cell_type": "code",
   "execution_count": 5,
   "metadata": {},
   "outputs": [
    {
     "name": "stdout",
     "output_type": "stream",
     "text": [
      "%\"anonymous:129251539443648\"<?,?> ⬅️ ::Neg(%anonymous:129251538934464)\n"
     ]
    }
   ],
   "source": [
    "new_node = ir.Node(\"\", 'Neg', add_node.outputs)\n",
    "print(new_node)"
   ]
  },
  {
   "cell_type": "code",
   "execution_count": 6,
   "metadata": {},
   "outputs": [],
   "source": [
    "identity.replace_input_with(0, new_node.outputs[0])"
   ]
  },
  {
   "cell_type": "code",
   "execution_count": 7,
   "metadata": {},
   "outputs": [],
   "source": [
    "graph.insert_after(add_node, new_node)"
   ]
  },
  {
   "cell_type": "code",
   "execution_count": 8,
   "metadata": {},
   "outputs": [
    {
     "name": "stdout",
     "output_type": "stream",
     "text": [
      "graph(\n",
      "    name=:anonymous_graph:129251538934720,\n",
      "    inputs=(\n",
      "        %\"input1\"<?,?>,\n",
      "        %\"input2\"<?,?>\n",
      "    ),\n",
      "    outputs=(\n",
      "        %\"anonymous:129251538934592\"<?,?>\n",
      "    ),\n",
      ") {\n",
      "    0 |  # :anonymous_node:129251539256800\n",
      "         %\"anonymous:129251538934464\"<?,?> ⬅️ ::Add(%\"input1\", %\"input2\")\n",
      "    1 |  # :anonymous_node:129251538853824\n",
      "         %\"anonymous:129251539443648\"<?,?> ⬅️ ::Neg(%anonymous:129251538934464)\n",
      "    2 |  # :anonymous_node:129251539258384\n",
      "         %\"anonymous:129251538934592\"<?,?> ⬅️ ::Identity(%anonymous:129251539443648)\n",
      "    return %\"anonymous:129251538934592\"<?,?>\n",
      "}\n"
     ]
    }
   ],
   "source": [
    "print(graph)"
   ]
  },
  {
   "cell_type": "code",
   "execution_count": 9,
   "metadata": {},
   "outputs": [],
   "source": [
    "graph.remove(new_node)"
   ]
  },
  {
   "cell_type": "code",
   "execution_count": 10,
   "metadata": {},
   "outputs": [
    {
     "name": "stdout",
     "output_type": "stream",
     "text": [
      "graph(\n",
      "    name=:anonymous_graph:129251538934720,\n",
      "    inputs=(\n",
      "        %\"input1\"<?,?>,\n",
      "        %\"input2\"<?,?>\n",
      "    ),\n",
      "    outputs=(\n",
      "        %\"anonymous:129251538934592\"<?,?>\n",
      "    ),\n",
      ") {\n",
      "    0 |  # :anonymous_node:129251539256800\n",
      "         %\"anonymous:129251538934464\"<?,?> ⬅️ ::Add(%\"input1\", %\"input2\")\n",
      "    1 |  # :anonymous_node:129251539258384\n",
      "         %\"anonymous:129251538934592\"<?,?> ⬅️ ::Identity(%anonymous:129251539443648)\n",
      "    return %\"anonymous:129251538934592\"<?,?>\n",
      "}\n"
     ]
    }
   ],
   "source": [
    "print(graph)"
   ]
  },
  {
   "cell_type": "code",
   "execution_count": null,
   "metadata": {},
   "outputs": [],
   "source": []
  }
 ],
 "metadata": {
  "kernelspec": {
   "display_name": "onnx",
   "language": "python",
   "name": "python3"
  },
  "language_info": {
   "codemirror_mode": {
    "name": "ipython",
    "version": 3
   },
   "file_extension": ".py",
   "mimetype": "text/x-python",
   "name": "python",
   "nbconvert_exporter": "python",
   "pygments_lexer": "ipython3",
   "version": "3.10.9"
  }
 },
 "nbformat": 4,
 "nbformat_minor": 2
}
